{
 "cells": [
  {
   "cell_type": "code",
   "execution_count": 1,
   "metadata": {},
   "outputs": [],
   "source": [
    "import numpy as np\n",
    "\n",
    "import json\n",
    "import tensorflow as tf\n",
    "\n",
    "from tensorflow.keras.preprocessing.text import Tokenizer\n",
    "from tensorflow.keras.preprocessing.sequence import pad_sequences"
   ]
  },
  {
   "cell_type": "code",
   "execution_count": 2,
   "metadata": {},
   "outputs": [],
   "source": [
    "vocab_size = 1000\n",
    "embedding_dim = 16\n",
    "max_length = 120\n",
    "trunc_type='post'\n",
    "padding_type='post'\n",
    "oov_tok = \"<OOV>\"\n",
    "training_size = 20000"
   ]
  },
  {
   "cell_type": "code",
   "execution_count": 3,
   "metadata": {},
   "outputs": [],
   "source": [
    "with open(\"/tmp/sarcasm.json\", 'r') as f:\n",
    "    datastore = json.load(f)"
   ]
  },
  {
   "cell_type": "code",
   "execution_count": 4,
   "metadata": {},
   "outputs": [],
   "source": [
    "sentences = []\n",
    "labels = []\n",
    "urls = []\n",
    "\n",
    "for item in datastore:\n",
    "    sentences.append(item['headline'])\n",
    "    labels.append(item['is_sarcastic'])"
   ]
  },
  {
   "cell_type": "code",
   "execution_count": 5,
   "metadata": {},
   "outputs": [],
   "source": [
    "training_sentences = sentences[0:training_size]\n",
    "testing_sentences = sentences[training_size:]\n",
    "training_labels = labels[0:training_size]\n",
    "testing_labels = labels[training_size:]"
   ]
  },
  {
   "cell_type": "code",
   "execution_count": 6,
   "metadata": {},
   "outputs": [],
   "source": [
    "tokenizer = Tokenizer(\n",
    "    num_words = vocab_size, \n",
    "    oov_token = oov_tok)\n",
    "\n",
    "tokenizer.fit_on_texts(training_sentences)"
   ]
  },
  {
   "cell_type": "code",
   "execution_count": 8,
   "metadata": {},
   "outputs": [],
   "source": [
    "word_index = tokenizer.word_index\n",
    "\n",
    "training_sequences = tokenizer.texts_to_sequences(training_sentences)\n",
    "training_padded = pad_sequences(training_sequences, maxlen=max_length, padding=padding_type, truncating=trunc_type)\n",
    "\n",
    "testing_sequences = tokenizer.texts_to_sequences(testing_sentences)\n",
    "testing_padded = pad_sequences(testing_sequences, maxlen=max_length, padding=padding_type, truncating=trunc_type)"
   ]
  },
  {
   "cell_type": "code",
   "execution_count": 9,
   "metadata": {},
   "outputs": [],
   "source": [
    "model = tf.keras.Sequential([\n",
    "    tf.keras.layers.Embedding(vocab_size, embedding_dim, input_length=max_length),\n",
    "    tf.keras.layers.Bidirectional(tf.keras.layers.LSTM(32)),\n",
    "    tf.keras.layers.Dense(24, activation='relu'),\n",
    "    tf.keras.layers.Dense(1, activation='sigmoid')\n",
    "])"
   ]
  },
  {
   "cell_type": "code",
   "execution_count": 10,
   "metadata": {},
   "outputs": [
    {
     "name": "stdout",
     "output_type": "stream",
     "text": [
      "Model: \"sequential\"\n",
      "_________________________________________________________________\n",
      "Layer (type)                 Output Shape              Param #   \n",
      "=================================================================\n",
      "embedding (Embedding)        (None, 120, 16)           16000     \n",
      "_________________________________________________________________\n",
      "bidirectional (Bidirectional (None, 64)                12544     \n",
      "_________________________________________________________________\n",
      "dense (Dense)                (None, 24)                1560      \n",
      "_________________________________________________________________\n",
      "dense_1 (Dense)              (None, 1)                 25        \n",
      "=================================================================\n",
      "Total params: 30,129\n",
      "Trainable params: 30,129\n",
      "Non-trainable params: 0\n",
      "_________________________________________________________________\n"
     ]
    }
   ],
   "source": [
    "model.compile(\n",
    "    loss='binary_crossentropy',\n",
    "    optimizer='adam',\n",
    "    metrics=['accuracy'])\n",
    "\n",
    "model.summary()"
   ]
  },
  {
   "cell_type": "code",
   "execution_count": 12,
   "metadata": {},
   "outputs": [],
   "source": [
    "training_padded = np.array(training_padded)\n",
    "training_labels = np.array(training_labels)\n",
    "testing_padded = np.array(testing_padded)\n",
    "testing_labels = np.array(testing_labels)\n",
    "num_epochs = 50"
   ]
  },
  {
   "cell_type": "code",
   "execution_count": 13,
   "metadata": {},
   "outputs": [
    {
     "name": "stdout",
     "output_type": "stream",
     "text": [
      "Epoch 1/50\n",
      "625/625 [==============================] - 19s 27ms/step - loss: 0.5401 - accuracy: 0.6929 - val_loss: 0.3770 - val_accuracy: 0.8286\n",
      "Epoch 2/50\n",
      "625/625 [==============================] - 16s 26ms/step - loss: 0.3459 - accuracy: 0.8426 - val_loss: 0.3767 - val_accuracy: 0.8298\n",
      "Epoch 3/50\n",
      "625/625 [==============================] - 16s 25ms/step - loss: 0.3103 - accuracy: 0.8630 - val_loss: 0.3680 - val_accuracy: 0.8356\n",
      "Epoch 4/50\n",
      "625/625 [==============================] - 16s 25ms/step - loss: 0.2990 - accuracy: 0.8712 - val_loss: 0.3698 - val_accuracy: 0.8360\n",
      "Epoch 5/50\n",
      "625/625 [==============================] - 16s 25ms/step - loss: 0.2860 - accuracy: 0.8759 - val_loss: 0.3731 - val_accuracy: 0.8346\n",
      "Epoch 6/50\n",
      "625/625 [==============================] - 16s 25ms/step - loss: 0.2792 - accuracy: 0.8802 - val_loss: 0.3757 - val_accuracy: 0.8329\n",
      "Epoch 7/50\n",
      "625/625 [==============================] - 16s 25ms/step - loss: 0.2697 - accuracy: 0.8822 - val_loss: 0.3866 - val_accuracy: 0.8292\n",
      "Epoch 8/50\n",
      "625/625 [==============================] - 16s 25ms/step - loss: 0.2625 - accuracy: 0.8866 - val_loss: 0.3907 - val_accuracy: 0.8264\n",
      "Epoch 9/50\n",
      "625/625 [==============================] - 16s 25ms/step - loss: 0.2574 - accuracy: 0.8911 - val_loss: 0.3881 - val_accuracy: 0.8289\n",
      "Epoch 10/50\n",
      "625/625 [==============================] - 16s 25ms/step - loss: 0.2498 - accuracy: 0.8930 - val_loss: 0.4021 - val_accuracy: 0.8284\n",
      "Epoch 11/50\n",
      "625/625 [==============================] - 16s 25ms/step - loss: 0.2463 - accuracy: 0.8945 - val_loss: 0.4155 - val_accuracy: 0.8284\n",
      "Epoch 12/50\n",
      "625/625 [==============================] - 16s 25ms/step - loss: 0.2349 - accuracy: 0.8985 - val_loss: 0.4389 - val_accuracy: 0.8241\n",
      "Epoch 13/50\n",
      "625/625 [==============================] - 16s 25ms/step - loss: 0.2290 - accuracy: 0.9012 - val_loss: 0.4214 - val_accuracy: 0.8198\n",
      "Epoch 14/50\n",
      "625/625 [==============================] - 16s 25ms/step - loss: 0.2153 - accuracy: 0.9116 - val_loss: 0.4243 - val_accuracy: 0.8262\n",
      "Epoch 15/50\n",
      "625/625 [==============================] - 16s 25ms/step - loss: 0.2088 - accuracy: 0.9135 - val_loss: 0.4676 - val_accuracy: 0.8198\n",
      "Epoch 16/50\n",
      "625/625 [==============================] - 16s 25ms/step - loss: 0.2031 - accuracy: 0.9148 - val_loss: 0.4620 - val_accuracy: 0.8217\n",
      "Epoch 17/50\n",
      "625/625 [==============================] - 16s 25ms/step - loss: 0.1936 - accuracy: 0.9221 - val_loss: 0.4873 - val_accuracy: 0.8141\n",
      "Epoch 18/50\n",
      "625/625 [==============================] - 16s 25ms/step - loss: 0.1867 - accuracy: 0.9227 - val_loss: 0.4988 - val_accuracy: 0.8140\n",
      "Epoch 19/50\n",
      "625/625 [==============================] - 16s 25ms/step - loss: 0.1758 - accuracy: 0.9278 - val_loss: 0.5272 - val_accuracy: 0.8129\n",
      "Epoch 20/50\n",
      "625/625 [==============================] - 16s 25ms/step - loss: 0.1760 - accuracy: 0.9278 - val_loss: 0.5200 - val_accuracy: 0.8165\n",
      "Epoch 21/50\n",
      "625/625 [==============================] - 16s 25ms/step - loss: 0.1768 - accuracy: 0.9274 - val_loss: 0.5794 - val_accuracy: 0.8074\n",
      "Epoch 22/50\n",
      "625/625 [==============================] - 16s 25ms/step - loss: 0.1613 - accuracy: 0.9349 - val_loss: 0.5923 - val_accuracy: 0.8031\n",
      "Epoch 23/50\n",
      "625/625 [==============================] - 16s 25ms/step - loss: 0.1671 - accuracy: 0.9326 - val_loss: 0.6247 - val_accuracy: 0.8101\n",
      "Epoch 24/50\n",
      "625/625 [==============================] - 17s 27ms/step - loss: 0.1486 - accuracy: 0.9412 - val_loss: 0.6537 - val_accuracy: 0.8085\n",
      "Epoch 25/50\n",
      "625/625 [==============================] - 17s 26ms/step - loss: 0.1481 - accuracy: 0.9401 - val_loss: 0.6390 - val_accuracy: 0.8082\n",
      "Epoch 26/50\n",
      "625/625 [==============================] - 17s 26ms/step - loss: 0.1389 - accuracy: 0.9426 - val_loss: 0.6904 - val_accuracy: 0.8064\n",
      "Epoch 27/50\n",
      "625/625 [==============================] - 17s 26ms/step - loss: 0.1301 - accuracy: 0.9483 - val_loss: 0.7630 - val_accuracy: 0.8049\n",
      "Epoch 28/50\n",
      "625/625 [==============================] - 17s 26ms/step - loss: 0.1223 - accuracy: 0.9525 - val_loss: 0.7547 - val_accuracy: 0.8001\n",
      "Epoch 29/50\n",
      "625/625 [==============================] - 17s 27ms/step - loss: 0.1297 - accuracy: 0.9460 - val_loss: 0.8910 - val_accuracy: 0.8032\n",
      "Epoch 30/50\n",
      "625/625 [==============================] - 17s 27ms/step - loss: 0.1199 - accuracy: 0.9537 - val_loss: 0.8082 - val_accuracy: 0.7949\n",
      "Epoch 31/50\n",
      "625/625 [==============================] - 17s 26ms/step - loss: 0.1117 - accuracy: 0.9567 - val_loss: 0.9396 - val_accuracy: 0.7986\n",
      "Epoch 32/50\n",
      "625/625 [==============================] - 17s 27ms/step - loss: 0.1046 - accuracy: 0.9554 - val_loss: 1.0248 - val_accuracy: 0.7974\n",
      "Epoch 33/50\n",
      "625/625 [==============================] - 17s 26ms/step - loss: 0.1023 - accuracy: 0.9591 - val_loss: 0.9764 - val_accuracy: 0.8030\n",
      "Epoch 34/50\n",
      "625/625 [==============================] - 17s 27ms/step - loss: 0.0994 - accuracy: 0.9599 - val_loss: 1.0164 - val_accuracy: 0.7986\n",
      "Epoch 35/50\n",
      "625/625 [==============================] - 17s 26ms/step - loss: 0.0930 - accuracy: 0.9619 - val_loss: 1.0354 - val_accuracy: 0.8006\n",
      "Epoch 36/50\n",
      "625/625 [==============================] - 17s 27ms/step - loss: 0.0939 - accuracy: 0.9630 - val_loss: 1.1573 - val_accuracy: 0.8000\n",
      "Epoch 37/50\n",
      "625/625 [==============================] - 17s 26ms/step - loss: 0.0809 - accuracy: 0.9673 - val_loss: 1.1471 - val_accuracy: 0.7988\n",
      "Epoch 38/50\n",
      "625/625 [==============================] - 17s 27ms/step - loss: 0.0845 - accuracy: 0.9643 - val_loss: 1.2198 - val_accuracy: 0.7967\n",
      "Epoch 39/50\n",
      "625/625 [==============================] - 17s 27ms/step - loss: 0.0757 - accuracy: 0.9697 - val_loss: 1.2390 - val_accuracy: 0.7919\n",
      "Epoch 40/50\n",
      "625/625 [==============================] - 17s 27ms/step - loss: 0.0729 - accuracy: 0.9703 - val_loss: 1.2879 - val_accuracy: 0.7968\n",
      "Epoch 41/50\n",
      "625/625 [==============================] - 17s 26ms/step - loss: 0.0728 - accuracy: 0.9698 - val_loss: 1.3852 - val_accuracy: 0.7962\n",
      "Epoch 42/50\n",
      "625/625 [==============================] - 17s 26ms/step - loss: 0.0794 - accuracy: 0.9687 - val_loss: 1.3539 - val_accuracy: 0.7937\n",
      "Epoch 43/50\n",
      "625/625 [==============================] - 17s 27ms/step - loss: 0.0676 - accuracy: 0.9732 - val_loss: 1.3913 - val_accuracy: 0.7860\n",
      "Epoch 44/50\n",
      "625/625 [==============================] - 17s 27ms/step - loss: 0.0710 - accuracy: 0.9725 - val_loss: 1.4240 - val_accuracy: 0.7915\n",
      "Epoch 45/50\n",
      "625/625 [==============================] - 17s 26ms/step - loss: 0.0658 - accuracy: 0.9734 - val_loss: 1.3992 - val_accuracy: 0.7948\n",
      "Epoch 46/50\n",
      "625/625 [==============================] - 17s 26ms/step - loss: 0.0579 - accuracy: 0.9763 - val_loss: 1.5053 - val_accuracy: 0.7900\n",
      "Epoch 47/50\n",
      "625/625 [==============================] - 16s 26ms/step - loss: 0.0590 - accuracy: 0.9769 - val_loss: 1.5228 - val_accuracy: 0.7965\n",
      "Epoch 48/50\n",
      "625/625 [==============================] - 16s 26ms/step - loss: 0.0609 - accuracy: 0.9759 - val_loss: 1.4839 - val_accuracy: 0.7933\n",
      "Epoch 49/50\n",
      "625/625 [==============================] - 16s 26ms/step - loss: 0.0522 - accuracy: 0.9790 - val_loss: 1.5441 - val_accuracy: 0.7995\n",
      "Epoch 50/50\n",
      "625/625 [==============================] - 16s 26ms/step - loss: 0.0600 - accuracy: 0.9756 - val_loss: 1.5757 - val_accuracy: 0.7907\n"
     ]
    }
   ],
   "source": [
    "history = model.fit(\n",
    "    training_padded, \n",
    "    training_labels, \n",
    "    epochs=num_epochs, \n",
    "    validation_data=(testing_padded, testing_labels), \n",
    "    verbose=1\n",
    ")"
   ]
  },
  {
   "cell_type": "code",
   "execution_count": 14,
   "metadata": {},
   "outputs": [
    {
     "data": {
      "image/png": "[encoded data removed]",
      "text/plain": [
       "<Figure size 432x288 with 1 Axes>"
      ]
     },
     "metadata": {
      "needs_background": "light"
     },
     "output_type": "display_data"
    },
    {
     "data": {
      "image/png": "[encoded data removed]",
      "text/plain": [
       "<Figure size 432x288 with 1 Axes>"
      ]
     },
     "metadata": {
      "needs_background": "light"
     },
     "output_type": "display_data"
    }
   ],
   "source": [
    "import matplotlib.pyplot as plt\n",
    "\n",
    "def plot_graphs(history, string):\n",
    "    plt.plot(history.history[string])\n",
    "    plt.plot(history.history['val_'+string])\n",
    "    \n",
    "    plt.xlabel(\"Epochs\")\n",
    "    plt.ylabel(string)\n",
    "    \n",
    "    plt.legend([string, 'val_'+string])\n",
    "    plt.show()\n",
    "\n",
    "plot_graphs(history, 'accuracy')\n",
    "plot_graphs(history, 'loss')"
   ]
  },
  {
   "cell_type": "code",
   "execution_count": 15,
   "metadata": {},
   "outputs": [],
   "source": [
    "model.save(\"test.h5\")"
   ]
  },
  {
   "cell_type": "code",
   "execution_count": null,
   "metadata": {},
   "outputs": [],
   "source": []
  }
 ],
 "metadata": {
  "kernelspec": {
   "display_name": "Python 3",
   "language": "python",
   "name": "python3"
  },
  "language_info": {
   "codemirror_mode": {
    "name": "ipython",
    "version": 3
   },
   "file_extension": ".py",
   "mimetype": "text/x-python",
   "name": "python",
   "nbconvert_exporter": "python",
   "pygments_lexer": "ipython3",
   "version": "3.8.5"
  }
 },
 "nbformat": 4,
 "nbformat_minor": 4
}
