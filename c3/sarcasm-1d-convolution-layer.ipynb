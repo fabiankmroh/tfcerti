{
 "cells": [
  {
   "cell_type": "code",
   "execution_count": 1,
   "metadata": {},
   "outputs": [],
   "source": [
    "import numpy as np\n",
    "\n",
    "import json\n",
    "import tensorflow as tf"
   ]
  },
  {
   "cell_type": "code",
   "execution_count": 2,
   "metadata": {},
   "outputs": [],
   "source": [
    "from tensorflow.keras.preprocessing.text import Tokenizer\n",
    "from tensorflow.keras.preprocessing.sequence import pad_sequences"
   ]
  },
  {
   "cell_type": "code",
   "execution_count": 3,
   "metadata": {},
   "outputs": [],
   "source": [
    "vocab_size = 1000\n",
    "embedding_dim = 16\n",
    "max_length = 120\n",
    "trunc_type='post'\n",
    "padding_type='post'\n",
    "oov_tok = \"<OOV>\"\n",
    "training_size = 20000"
   ]
  },
  {
   "cell_type": "code",
   "execution_count": 4,
   "metadata": {},
   "outputs": [],
   "source": [
    "with open(\"/tmp/sarcasm.json\", 'r') as f:\n",
    "    datastore = json.load(f)"
   ]
  },
  {
   "cell_type": "code",
   "execution_count": 5,
   "metadata": {},
   "outputs": [],
   "source": [
    "sentences = []\n",
    "labels = []\n",
    "urls = []"
   ]
  },
  {
   "cell_type": "code",
   "execution_count": 6,
   "metadata": {},
   "outputs": [],
   "source": [
    "for item in datastore:\n",
    "    sentences.append(item['headline'])\n",
    "    labels.append(item['is_sarcastic'])"
   ]
  },
  {
   "cell_type": "code",
   "execution_count": 7,
   "metadata": {},
   "outputs": [],
   "source": [
    "training_sentences = sentences[0:training_size]\n",
    "testing_sentences = sentences[training_size:]\n",
    "training_labels = labels[0:training_size]\n",
    "testing_labels = labels[training_size:]"
   ]
  },
  {
   "cell_type": "code",
   "execution_count": 9,
   "metadata": {},
   "outputs": [],
   "source": [
    "tokenizer = Tokenizer(num_words=vocab_size, oov_token=oov_tok)\n",
    "tokenizer.fit_on_texts(training_sentences)\n",
    "\n",
    "word_index = tokenizer.word_index"
   ]
  },
  {
   "cell_type": "code",
   "execution_count": 10,
   "metadata": {},
   "outputs": [],
   "source": [
    "training_sequences = tokenizer.texts_to_sequences(training_sentences)\n",
    "training_padded = pad_sequences(training_sequences, maxlen=max_length, padding=padding_type, truncating=trunc_type)\n",
    "\n",
    "testing_sequences = tokenizer.texts_to_sequences(testing_sentences)\n",
    "testing_padded = pad_sequences(testing_sequences, maxlen=max_length, padding=padding_type, truncating=trunc_type)"
   ]
  },
  {
   "cell_type": "code",
   "execution_count": 11,
   "metadata": {},
   "outputs": [],
   "source": [
    "model = tf.keras.Sequential([\n",
    "    tf.keras.layers.Embedding(vocab_size, embedding_dim, input_length=max_length),\n",
    "    tf.keras.layers.Conv1D(128, 5, activation='relu'),\n",
    "    tf.keras.layers.GlobalMaxPooling1D(),\n",
    "    tf.keras.layers.Dense(24, activation='relu'),\n",
    "    tf.keras.layers.Dense(1, activation='sigmoid')\n",
    "])"
   ]
  },
  {
   "cell_type": "code",
   "execution_count": 12,
   "metadata": {},
   "outputs": [
    {
     "name": "stdout",
     "output_type": "stream",
     "text": [
      "Model: \"sequential\"\n",
      "_________________________________________________________________\n",
      "Layer (type)                 Output Shape              Param #   \n",
      "=================================================================\n",
      "embedding (Embedding)        (None, 120, 16)           16000     \n",
      "_________________________________________________________________\n",
      "conv1d (Conv1D)              (None, 116, 128)          10368     \n",
      "_________________________________________________________________\n",
      "global_max_pooling1d (Global (None, 128)               0         \n",
      "_________________________________________________________________\n",
      "dense (Dense)                (None, 24)                3096      \n",
      "_________________________________________________________________\n",
      "dense_1 (Dense)              (None, 1)                 25        \n",
      "=================================================================\n",
      "Total params: 29,489\n",
      "Trainable params: 29,489\n",
      "Non-trainable params: 0\n",
      "_________________________________________________________________\n"
     ]
    }
   ],
   "source": [
    "model.compile(\n",
    "    loss='binary_crossentropy',\n",
    "    optimizer='adam',\n",
    "    metrics=['accuracy']\n",
    ")\n",
    "\n",
    "model.summary()"
   ]
  },
  {
   "cell_type": "code",
   "execution_count": 13,
   "metadata": {},
   "outputs": [],
   "source": [
    "num_epochs = 50\n",
    "\n",
    "training_padded = np.array(training_padded)\n",
    "training_labels = np.array(training_labels)\n",
    "testing_padded = np.array(testing_padded)\n",
    "testing_labels = np.array(testing_labels)"
   ]
  },
  {
   "cell_type": "code",
   "execution_count": 14,
   "metadata": {},
   "outputs": [
    {
     "name": "stdout",
     "output_type": "stream",
     "text": [
      "Epoch 1/50\n",
      "625/625 [==============================] - 3s 4ms/step - loss: 0.5549 - accuracy: 0.6978 - val_loss: 0.4070 - val_accuracy: 0.8183\n",
      "Epoch 2/50\n",
      "625/625 [==============================] - 2s 4ms/step - loss: 0.3491 - accuracy: 0.8420 - val_loss: 0.4115 - val_accuracy: 0.8064\n",
      "Epoch 3/50\n",
      "625/625 [==============================] - 2s 4ms/step - loss: 0.3162 - accuracy: 0.8646 - val_loss: 0.3899 - val_accuracy: 0.8292\n",
      "Epoch 4/50\n",
      "625/625 [==============================] - 2s 4ms/step - loss: 0.2786 - accuracy: 0.8820 - val_loss: 0.4167 - val_accuracy: 0.8164\n",
      "Epoch 5/50\n",
      "625/625 [==============================] - 2s 4ms/step - loss: 0.2471 - accuracy: 0.8982 - val_loss: 0.4301 - val_accuracy: 0.8171\n",
      "Epoch 6/50\n",
      "625/625 [==============================] - 2s 4ms/step - loss: 0.2093 - accuracy: 0.9181 - val_loss: 0.4513 - val_accuracy: 0.8202\n",
      "Epoch 7/50\n",
      "625/625 [==============================] - 2s 4ms/step - loss: 0.1772 - accuracy: 0.9324 - val_loss: 0.4984 - val_accuracy: 0.8113\n",
      "Epoch 8/50\n",
      "625/625 [==============================] - 2s 4ms/step - loss: 0.1477 - accuracy: 0.9452 - val_loss: 0.5694 - val_accuracy: 0.8076\n",
      "Epoch 9/50\n",
      "625/625 [==============================] - 2s 4ms/step - loss: 0.1239 - accuracy: 0.9574 - val_loss: 0.6285 - val_accuracy: 0.8015\n",
      "Epoch 10/50\n",
      "625/625 [==============================] - 2s 4ms/step - loss: 0.0944 - accuracy: 0.9671 - val_loss: 0.6759 - val_accuracy: 0.8013\n",
      "Epoch 11/50\n",
      "625/625 [==============================] - 2s 4ms/step - loss: 0.0765 - accuracy: 0.9744 - val_loss: 0.7387 - val_accuracy: 0.8004\n",
      "Epoch 12/50\n",
      "625/625 [==============================] - 2s 4ms/step - loss: 0.0602 - accuracy: 0.9809 - val_loss: 0.8978 - val_accuracy: 0.7951\n",
      "Epoch 13/50\n",
      "625/625 [==============================] - 2s 4ms/step - loss: 0.0549 - accuracy: 0.9805 - val_loss: 0.9212 - val_accuracy: 0.7952\n",
      "Epoch 14/50\n",
      "625/625 [==============================] - 2s 4ms/step - loss: 0.0509 - accuracy: 0.9821 - val_loss: 1.0723 - val_accuracy: 0.7877\n",
      "Epoch 15/50\n",
      "625/625 [==============================] - 2s 4ms/step - loss: 0.0464 - accuracy: 0.9838 - val_loss: 1.0974 - val_accuracy: 0.7906\n",
      "Epoch 16/50\n",
      "625/625 [==============================] - 2s 4ms/step - loss: 0.0435 - accuracy: 0.9839 - val_loss: 1.2162 - val_accuracy: 0.7860\n",
      "Epoch 17/50\n",
      "625/625 [==============================] - 2s 4ms/step - loss: 0.0376 - accuracy: 0.9866 - val_loss: 1.2587 - val_accuracy: 0.7837\n",
      "Epoch 18/50\n",
      "625/625 [==============================] - 2s 4ms/step - loss: 0.0360 - accuracy: 0.9871 - val_loss: 1.3282 - val_accuracy: 0.7855\n",
      "Epoch 19/50\n",
      "625/625 [==============================] - 2s 4ms/step - loss: 0.0370 - accuracy: 0.9859 - val_loss: 1.3486 - val_accuracy: 0.7885\n",
      "Epoch 20/50\n",
      "625/625 [==============================] - 2s 4ms/step - loss: 0.0279 - accuracy: 0.9904 - val_loss: 1.4301 - val_accuracy: 0.7973\n",
      "Epoch 21/50\n",
      "625/625 [==============================] - 2s 4ms/step - loss: 0.0304 - accuracy: 0.9884 - val_loss: 1.4419 - val_accuracy: 0.7939\n",
      "Epoch 22/50\n",
      "625/625 [==============================] - 2s 4ms/step - loss: 0.0371 - accuracy: 0.9844 - val_loss: 1.5227 - val_accuracy: 0.7945\n",
      "Epoch 23/50\n",
      "625/625 [==============================] - 2s 4ms/step - loss: 0.0310 - accuracy: 0.9886 - val_loss: 1.5760 - val_accuracy: 0.7891\n",
      "Epoch 24/50\n",
      "625/625 [==============================] - 2s 4ms/step - loss: 0.0237 - accuracy: 0.9903 - val_loss: 1.7296 - val_accuracy: 0.7891\n",
      "Epoch 25/50\n",
      "625/625 [==============================] - 2s 4ms/step - loss: 0.0237 - accuracy: 0.9905 - val_loss: 1.6696 - val_accuracy: 0.7937\n",
      "Epoch 26/50\n",
      "625/625 [==============================] - 2s 4ms/step - loss: 0.0250 - accuracy: 0.9896 - val_loss: 1.7156 - val_accuracy: 0.7891\n",
      "Epoch 27/50\n",
      "625/625 [==============================] - 2s 4ms/step - loss: 0.0276 - accuracy: 0.9891 - val_loss: 1.7042 - val_accuracy: 0.7921\n",
      "Epoch 28/50\n",
      "625/625 [==============================] - 2s 3ms/step - loss: 0.0235 - accuracy: 0.9911 - val_loss: 1.7534 - val_accuracy: 0.7903\n",
      "Epoch 29/50\n",
      "625/625 [==============================] - 2s 3ms/step - loss: 0.0268 - accuracy: 0.9898 - val_loss: 1.8159 - val_accuracy: 0.7898\n",
      "Epoch 30/50\n",
      "625/625 [==============================] - 2s 3ms/step - loss: 0.0252 - accuracy: 0.9896 - val_loss: 1.9324 - val_accuracy: 0.7839\n",
      "Epoch 31/50\n",
      "625/625 [==============================] - 2s 3ms/step - loss: 0.0242 - accuracy: 0.9893 - val_loss: 1.9933 - val_accuracy: 0.7776\n",
      "Epoch 32/50\n",
      "625/625 [==============================] - 2s 4ms/step - loss: 0.0250 - accuracy: 0.9887 - val_loss: 1.9032 - val_accuracy: 0.7851\n",
      "Epoch 33/50\n",
      "625/625 [==============================] - 2s 4ms/step - loss: 0.0216 - accuracy: 0.9904 - val_loss: 2.1370 - val_accuracy: 0.7891\n",
      "Epoch 34/50\n",
      "625/625 [==============================] - 2s 4ms/step - loss: 0.0252 - accuracy: 0.9903 - val_loss: 2.1153 - val_accuracy: 0.7918\n",
      "Epoch 35/50\n",
      "625/625 [==============================] - 2s 4ms/step - loss: 0.0239 - accuracy: 0.9905 - val_loss: 1.9626 - val_accuracy: 0.7864\n",
      "Epoch 36/50\n",
      "625/625 [==============================] - 2s 4ms/step - loss: 0.0235 - accuracy: 0.9913 - val_loss: 2.0151 - val_accuracy: 0.7895\n",
      "Epoch 37/50\n",
      "625/625 [==============================] - 2s 3ms/step - loss: 0.0228 - accuracy: 0.9904 - val_loss: 2.1153 - val_accuracy: 0.7855\n",
      "Epoch 38/50\n",
      "625/625 [==============================] - 2s 4ms/step - loss: 0.0166 - accuracy: 0.9927 - val_loss: 2.1808 - val_accuracy: 0.7882\n",
      "Epoch 39/50\n",
      "625/625 [==============================] - 2s 4ms/step - loss: 0.0165 - accuracy: 0.9924 - val_loss: 2.2320 - val_accuracy: 0.7891\n",
      "Epoch 40/50\n",
      "625/625 [==============================] - 2s 4ms/step - loss: 0.0189 - accuracy: 0.9924 - val_loss: 2.1841 - val_accuracy: 0.7907\n",
      "Epoch 41/50\n",
      "625/625 [==============================] - 2s 4ms/step - loss: 0.0279 - accuracy: 0.9874 - val_loss: 2.1758 - val_accuracy: 0.7840\n",
      "Epoch 42/50\n",
      "625/625 [==============================] - 2s 3ms/step - loss: 0.0232 - accuracy: 0.9908 - val_loss: 2.3436 - val_accuracy: 0.7757\n",
      "Epoch 43/50\n",
      "625/625 [==============================] - 2s 4ms/step - loss: 0.0181 - accuracy: 0.9924 - val_loss: 2.3928 - val_accuracy: 0.7812\n",
      "Epoch 44/50\n",
      "625/625 [==============================] - 2s 4ms/step - loss: 0.0194 - accuracy: 0.9919 - val_loss: 2.2535 - val_accuracy: 0.7895\n",
      "Epoch 45/50\n",
      "625/625 [==============================] - 2s 4ms/step - loss: 0.0197 - accuracy: 0.9912 - val_loss: 2.2824 - val_accuracy: 0.7888\n",
      "Epoch 46/50\n",
      "625/625 [==============================] - 2s 4ms/step - loss: 0.0192 - accuracy: 0.9921 - val_loss: 2.4512 - val_accuracy: 0.7939\n",
      "Epoch 47/50\n",
      "625/625 [==============================] - 2s 3ms/step - loss: 0.0221 - accuracy: 0.9915 - val_loss: 2.4903 - val_accuracy: 0.7857\n",
      "Epoch 48/50\n",
      "625/625 [==============================] - 2s 3ms/step - loss: 0.0167 - accuracy: 0.9931 - val_loss: 2.3998 - val_accuracy: 0.7907\n",
      "Epoch 49/50\n",
      "625/625 [==============================] - 2s 4ms/step - loss: 0.0165 - accuracy: 0.9929 - val_loss: 2.4537 - val_accuracy: 0.7834\n",
      "Epoch 50/50\n",
      "625/625 [==============================] - 2s 4ms/step - loss: 0.0165 - accuracy: 0.9922 - val_loss: 2.6016 - val_accuracy: 0.7888\n"
     ]
    }
   ],
   "source": [
    "history = model.fit(\n",
    "    training_padded,\n",
    "    training_labels,\n",
    "    epochs = num_epochs, \n",
    "    validation_data = (testing_padded, testing_labels), \n",
    "    verbose = 1\n",
    ")"
   ]
  },
  {
   "cell_type": "code",
   "execution_count": 15,
   "metadata": {},
   "outputs": [
    {
     "data": {
      "image/png": "[encoded data removed]",
      "text/plain": [
       "<Figure size 432x288 with 1 Axes>"
      ]
     },
     "metadata": {
      "needs_background": "light"
     },
     "output_type": "display_data"
    },
    {
     "data": {
      "image/png": "[encoded data removed]",
      "text/plain": [
       "<Figure size 432x288 with 1 Axes>"
      ]
     },
     "metadata": {
      "needs_background": "light"
     },
     "output_type": "display_data"
    }
   ],
   "source": [
    "import matplotlib.pyplot as plt\n",
    "\n",
    "def plot_graphs(history, string):\n",
    "    plt.plot(history.history[string])\n",
    "    plt.plot(history.history['val_'+string])\n",
    "  \n",
    "    plt.xlabel(\"Epochs\")\n",
    "    plt.ylabel(string)\n",
    "\n",
    "    plt.legend([string, 'val_'+string])\n",
    "    plt.show()\n",
    "\n",
    "plot_graphs(history, 'accuracy')\n",
    "plot_graphs(history, 'loss')"
   ]
  },
  {
   "cell_type": "code",
   "execution_count": 16,
   "metadata": {},
   "outputs": [],
   "source": [
    "model.save(\"test.h5\")"
   ]
  },
  {
   "cell_type": "code",
   "execution_count": null,
   "metadata": {},
   "outputs": [],
   "source": []
  }
 ],
 "metadata": {
  "kernelspec": {
   "display_name": "Python 3",
   "language": "python",
   "name": "python3"
  },
  "language_info": {
   "codemirror_mode": {
    "name": "ipython",
    "version": 3
   },
   "file_extension": ".py",
   "mimetype": "text/x-python",
   "name": "python",
   "nbconvert_exporter": "python",
   "pygments_lexer": "ipython3",
   "version": "3.8.5"
  }
 },
 "nbformat": 4,
 "nbformat_minor": 4
}
