{
 "cells": [
  {
   "cell_type": "code",
   "execution_count": 1,
   "metadata": {},
   "outputs": [],
   "source": [
    "import json\n",
    "import tensorflow as tf\n",
    "\n",
    "from tensorflow.keras.preprocessing.text import Tokenizer\n",
    "from tensorflow.keras.preprocessing.sequence import pad_sequences"
   ]
  },
  {
   "cell_type": "code",
   "execution_count": 2,
   "metadata": {},
   "outputs": [],
   "source": [
    "vocab_size = 10000\n",
    "embedding_dim = 16\n",
    "max_length = 100\n",
    "trunc_type='post'\n",
    "padding_type='post'\n",
    "oov_tok = \"<OOV>\"\n",
    "training_size = 20000"
   ]
  },
  {
   "cell_type": "code",
   "execution_count": 3,
   "metadata": {},
   "outputs": [
    {
     "name": "stdout",
     "output_type": "stream",
     "text": [
      "--2021-05-31 18:05:46--  https://storage.googleapis.com/laurencemoroney-blog.appspot.com/sarcasm.json\n",
      "Resolving storage.googleapis.com (storage.googleapis.com)... 34.64.4.48, 34.64.4.80, 34.64.4.112, ...\n",
      "Connecting to storage.googleapis.com (storage.googleapis.com)|34.64.4.48|:443... connected.\n",
      "HTTP request sent, awaiting response... 200 OK\n",
      "Length: 5643545 (5.4M) [application/json]\n",
      "Saving to: ‘/tmp/sarcasm.json’\n",
      "\n",
      "/tmp/sarcasm.json   100%[===================>]   5.38M  --.-KB/s    in 0.1s    \n",
      "\n",
      "2021-05-31 18:05:47 (51.7 MB/s) - ‘/tmp/sarcasm.json’ saved [5643545/5643545]\n",
      "\n"
     ]
    }
   ],
   "source": [
    "!wget --no-check-certificate \\\n",
    "    https://storage.googleapis.com/laurencemoroney-blog.appspot.com/sarcasm.json \\\n",
    "    -O /tmp/sarcasm.json"
   ]
  },
  {
   "cell_type": "code",
   "execution_count": 4,
   "metadata": {},
   "outputs": [],
   "source": [
    "with open(\"/tmp/sarcasm.json\", 'r') as f:\n",
    "    datastore = json.load(f)\n",
    "\n",
    "sentences = []\n",
    "labels = []\n",
    "\n",
    "for item in datastore:\n",
    "    sentences.append(item['headline'])\n",
    "    labels.append(item['is_sarcastic'])"
   ]
  },
  {
   "cell_type": "code",
   "execution_count": 5,
   "metadata": {},
   "outputs": [],
   "source": [
    "training_sentences = sentences[0:training_size]\n",
    "testing_sentences = sentences[training_size:]\n",
    "training_labels = labels[0:training_size]\n",
    "testing_labels = labels[training_size:]"
   ]
  },
  {
   "cell_type": "code",
   "execution_count": 6,
   "metadata": {},
   "outputs": [],
   "source": [
    "tokenizer = Tokenizer(num_words=vocab_size, oov_token=oov_tok)\n",
    "tokenizer.fit_on_texts(training_sentences)\n",
    "\n",
    "word_index = tokenizer.word_index\n",
    "\n",
    "training_sequences = tokenizer.texts_to_sequences(training_sentences)\n",
    "training_padded = pad_sequences(training_sequences, maxlen=max_length, padding=padding_type, truncating=trunc_type)\n",
    "\n",
    "testing_sequences = tokenizer.texts_to_sequences(testing_sentences)\n",
    "testing_padded = pad_sequences(testing_sequences, maxlen=max_length, padding=padding_type, truncating=trunc_type)"
   ]
  },
  {
   "cell_type": "code",
   "execution_count": 7,
   "metadata": {},
   "outputs": [],
   "source": [
    "import numpy as np\n",
    "\n",
    "training_padded = np.array(training_padded)\n",
    "training_labels = np.array(training_labels)\n",
    "testing_padded = np.array(testing_padded)\n",
    "testing_labels = np.array(testing_labels)"
   ]
  },
  {
   "cell_type": "code",
   "execution_count": 8,
   "metadata": {},
   "outputs": [],
   "source": [
    "model = tf.keras.Sequential([\n",
    "    tf.keras.layers.Embedding(vocab_size, embedding_dim, input_length=max_length),\n",
    "    tf.keras.layers.GlobalAveragePooling1D(),\n",
    "    tf.keras.layers.Dense(24, activation='relu'),\n",
    "    tf.keras.layers.Dense(1, activation='sigmoid')\n",
    "])"
   ]
  },
  {
   "cell_type": "code",
   "execution_count": 9,
   "metadata": {},
   "outputs": [
    {
     "name": "stdout",
     "output_type": "stream",
     "text": [
      "Model: \"sequential\"\n",
      "_________________________________________________________________\n",
      "Layer (type)                 Output Shape              Param #   \n",
      "=================================================================\n",
      "embedding (Embedding)        (None, 100, 16)           160000    \n",
      "_________________________________________________________________\n",
      "global_average_pooling1d (Gl (None, 16)                0         \n",
      "_________________________________________________________________\n",
      "dense (Dense)                (None, 24)                408       \n",
      "_________________________________________________________________\n",
      "dense_1 (Dense)              (None, 1)                 25        \n",
      "=================================================================\n",
      "Total params: 160,433\n",
      "Trainable params: 160,433\n",
      "Non-trainable params: 0\n",
      "_________________________________________________________________\n"
     ]
    }
   ],
   "source": [
    "model.compile(loss='binary_crossentropy',optimizer='adam',metrics=['accuracy'])\n",
    "model.summary()"
   ]
  },
  {
   "cell_type": "code",
   "execution_count": 10,
   "metadata": {},
   "outputs": [
    {
     "name": "stdout",
     "output_type": "stream",
     "text": [
      "Epoch 1/30\n",
      "625/625 - 2s - loss: 0.6654 - accuracy: 0.5849 - val_loss: 0.5862 - val_accuracy: 0.6779\n",
      "Epoch 2/30\n",
      "625/625 - 1s - loss: 0.4320 - accuracy: 0.8289 - val_loss: 0.3889 - val_accuracy: 0.8348\n",
      "Epoch 3/30\n",
      "625/625 - 1s - loss: 0.3105 - accuracy: 0.8726 - val_loss: 0.3533 - val_accuracy: 0.8521\n",
      "Epoch 4/30\n",
      "625/625 - 1s - loss: 0.2579 - accuracy: 0.8985 - val_loss: 0.3429 - val_accuracy: 0.8587\n",
      "Epoch 5/30\n",
      "625/625 - 1s - loss: 0.2227 - accuracy: 0.9138 - val_loss: 0.3451 - val_accuracy: 0.8557\n",
      "Epoch 6/30\n",
      "625/625 - 1s - loss: 0.1949 - accuracy: 0.9262 - val_loss: 0.3541 - val_accuracy: 0.8547\n",
      "Epoch 7/30\n",
      "625/625 - 1s - loss: 0.1729 - accuracy: 0.9351 - val_loss: 0.3681 - val_accuracy: 0.8520\n",
      "Epoch 8/30\n",
      "625/625 - 1s - loss: 0.1536 - accuracy: 0.9440 - val_loss: 0.3818 - val_accuracy: 0.8539\n",
      "Epoch 9/30\n",
      "625/625 - 1s - loss: 0.1381 - accuracy: 0.9510 - val_loss: 0.4153 - val_accuracy: 0.8429\n",
      "Epoch 10/30\n",
      "625/625 - 1s - loss: 0.1247 - accuracy: 0.9557 - val_loss: 0.4264 - val_accuracy: 0.8477\n",
      "Epoch 11/30\n",
      "625/625 - 1s - loss: 0.1139 - accuracy: 0.9603 - val_loss: 0.4508 - val_accuracy: 0.8448\n",
      "Epoch 12/30\n",
      "625/625 - 1s - loss: 0.1017 - accuracy: 0.9657 - val_loss: 0.4957 - val_accuracy: 0.8357\n",
      "Epoch 13/30\n",
      "625/625 - 1s - loss: 0.0934 - accuracy: 0.9678 - val_loss: 0.5021 - val_accuracy: 0.8426\n",
      "Epoch 14/30\n",
      "625/625 - 1s - loss: 0.0878 - accuracy: 0.9709 - val_loss: 0.5292 - val_accuracy: 0.8381\n",
      "Epoch 15/30\n",
      "625/625 - 1s - loss: 0.0775 - accuracy: 0.9744 - val_loss: 0.5791 - val_accuracy: 0.8299\n",
      "Epoch 16/30\n",
      "625/625 - 1s - loss: 0.0723 - accuracy: 0.9761 - val_loss: 0.5821 - val_accuracy: 0.8380\n",
      "Epoch 17/30\n",
      "625/625 - 1s - loss: 0.0646 - accuracy: 0.9797 - val_loss: 0.6243 - val_accuracy: 0.8316\n",
      "Epoch 18/30\n",
      "625/625 - 1s - loss: 0.0592 - accuracy: 0.9806 - val_loss: 0.6426 - val_accuracy: 0.8308\n",
      "Epoch 19/30\n",
      "625/625 - 1s - loss: 0.0544 - accuracy: 0.9829 - val_loss: 0.6860 - val_accuracy: 0.8280\n",
      "Epoch 20/30\n",
      "625/625 - 1s - loss: 0.0500 - accuracy: 0.9850 - val_loss: 0.7155 - val_accuracy: 0.8280\n",
      "Epoch 21/30\n",
      "625/625 - 1s - loss: 0.0452 - accuracy: 0.9866 - val_loss: 0.8398 - val_accuracy: 0.8091\n",
      "Epoch 22/30\n",
      "625/625 - 1s - loss: 0.0439 - accuracy: 0.9865 - val_loss: 0.7879 - val_accuracy: 0.8213\n",
      "Epoch 23/30\n",
      "625/625 - 1s - loss: 0.0385 - accuracy: 0.9890 - val_loss: 0.8203 - val_accuracy: 0.8214\n",
      "Epoch 24/30\n",
      "625/625 - 1s - loss: 0.0354 - accuracy: 0.9895 - val_loss: 0.8617 - val_accuracy: 0.8195\n",
      "Epoch 25/30\n",
      "625/625 - 1s - loss: 0.0318 - accuracy: 0.9909 - val_loss: 0.8943 - val_accuracy: 0.8202\n",
      "Epoch 26/30\n",
      "625/625 - 1s - loss: 0.0297 - accuracy: 0.9919 - val_loss: 0.9369 - val_accuracy: 0.8171\n",
      "Epoch 27/30\n",
      "625/625 - 1s - loss: 0.0280 - accuracy: 0.9919 - val_loss: 0.9962 - val_accuracy: 0.8135\n",
      "Epoch 28/30\n",
      "625/625 - 1s - loss: 0.0280 - accuracy: 0.9916 - val_loss: 1.0191 - val_accuracy: 0.8134\n",
      "Epoch 29/30\n",
      "625/625 - 1s - loss: 0.0231 - accuracy: 0.9940 - val_loss: 1.0632 - val_accuracy: 0.8128\n",
      "Epoch 30/30\n",
      "625/625 - 1s - loss: 0.0212 - accuracy: 0.9943 - val_loss: 1.1025 - val_accuracy: 0.8113\n"
     ]
    }
   ],
   "source": [
    "num_epochs = 30\n",
    "history = model.fit(\n",
    "    training_padded, \n",
    "    training_labels, \n",
    "    epochs=num_epochs, \n",
    "    validation_data=(testing_padded, testing_labels), verbose=2\n",
    ")"
   ]
  },
  {
   "cell_type": "code",
   "execution_count": 11,
   "metadata": {},
   "outputs": [
    {
     "data": {
      "image/png": "[encoded data removed]",
      "text/plain": [
       "<Figure size 432x288 with 1 Axes>"
      ]
     },
     "metadata": {
      "needs_background": "light"
     },
     "output_type": "display_data"
    },
    {
     "data": {
      "image/png": "[encoded data removed]",
      "text/plain": [
       "<Figure size 432x288 with 1 Axes>"
      ]
     },
     "metadata": {
      "needs_background": "light"
     },
     "output_type": "display_data"
    }
   ],
   "source": [
    "import matplotlib.pyplot as plt\n",
    "\n",
    "\n",
    "def plot_graphs(history, string):\n",
    "    plt.plot(history.history[string])\n",
    "    plt.plot(history.history['val_'+string])\n",
    "    plt.xlabel(\"Epochs\")\n",
    "    plt.ylabel(string)\n",
    "    plt.legend([string, 'val_'+string])\n",
    "    plt.show()\n",
    "  \n",
    "plot_graphs(history, \"accuracy\")\n",
    "plot_graphs(history, \"loss\")"
   ]
  },
  {
   "cell_type": "code",
   "execution_count": 12,
   "metadata": {},
   "outputs": [
    {
     "name": "stdout",
     "output_type": "stream",
     "text": [
      "former <OOV> store clerk sues over secret 'black <OOV> for minority shoppers ? ? ? ? ? ? ? ? ? ? ? ? ? ? ? ? ? ? ? ? ? ? ? ? ? ? ? ? ? ? ? ? ? ? ? ? ? ? ? ? ? ? ? ? ? ? ? ? ? ? ? ? ? ? ? ? ? ? ? ? ? ? ? ? ? ? ? ? ? ? ? ? ? ? ? ? ? ? ? ? ? ? ? ? ? ? ? ?\n",
      "mom starting to fear son's web series closest thing she will have to grandchild\n",
      "1\n"
     ]
    }
   ],
   "source": [
    "reverse_word_index = dict([(value, key) for (key, value) in word_index.items()])\n",
    "\n",
    "def decode_sentence(text):\n",
    "    return ' '.join([reverse_word_index.get(i, '?') for i in text])\n",
    "\n",
    "print(decode_sentence(training_padded[0]))\n",
    "print(training_sentences[2])\n",
    "print(labels[2])"
   ]
  },
  {
   "cell_type": "code",
   "execution_count": 13,
   "metadata": {},
   "outputs": [
    {
     "name": "stdout",
     "output_type": "stream",
     "text": [
      "(10000, 16)\n"
     ]
    }
   ],
   "source": [
    "e = model.layers[0]\n",
    "weights = e.get_weights()[0]\n",
    "print(weights.shape) "
   ]
  },
  {
   "cell_type": "code",
   "execution_count": 18,
   "metadata": {},
   "outputs": [],
   "source": [
    "import io\n",
    "\n",
    "out_v = io.open('vecs.tsv', 'w', encoding='utf-8')\n",
    "out_m = io.open('meta.tsv', 'w', encoding='utf-8')"
   ]
  },
  {
   "cell_type": "code",
   "execution_count": 19,
   "metadata": {},
   "outputs": [],
   "source": [
    "for word_num in range(1, vocab_size):\n",
    "    word = reverse_word_index[word_num]\n",
    "    embeddings = weights[word_num]\n",
    "    out_m.write(word + \"\\n\")\n",
    "    out_v.write('\\t'.join([str(x) for x in embeddings]) + \"\\n\")\n",
    "\n",
    "out_v.close()\n",
    "out_m.close()"
   ]
  },
  {
   "cell_type": "code",
   "execution_count": 20,
   "metadata": {},
   "outputs": [
    {
     "name": "stdout",
     "output_type": "stream",
     "text": [
      "[[9.8729002e-01]\n",
      " [3.1324234e-05]]\n"
     ]
    }
   ],
   "source": [
    "sentence = [\"granny starting to fear spiders in the garden might be real\", \n",
    "            \"game of thrones season finale showing this sunday night\"]\n",
    "sequences = tokenizer.texts_to_sequences(sentence)\n",
    "padded = pad_sequences(sequences, maxlen=max_length, padding=padding_type, truncating=trunc_type)\n",
    "\n",
    "print(model.predict(padded))"
   ]
  },
  {
   "cell_type": "code",
   "execution_count": null,
   "metadata": {},
   "outputs": [],
   "source": []
  }
 ],
 "metadata": {
  "kernelspec": {
   "display_name": "Python 3",
   "language": "python",
   "name": "python3"
  },
  "language_info": {
   "codemirror_mode": {
    "name": "ipython",
    "version": 3
   },
   "file_extension": ".py",
   "mimetype": "text/x-python",
   "name": "python",
   "nbconvert_exporter": "python",
   "pygments_lexer": "ipython3",
   "version": "3.8.5"
  }
 },
 "nbformat": 4,
 "nbformat_minor": 4
}
