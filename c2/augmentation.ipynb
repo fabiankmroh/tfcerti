{
 "cells": [
  {
   "cell_type": "code",
   "execution_count": 1,
   "metadata": {},
   "outputs": [
    {
     "name": "stdout",
     "output_type": "stream",
     "text": [
      "--2021-05-23 18:13:49--  https://storage.googleapis.com/mledu-datasets/cats_and_dogs_filtered.zip\n",
      "Resolving storage.googleapis.com (storage.googleapis.com)... 34.64.4.16, 34.64.4.48, 34.64.4.80, ...\n",
      "Connecting to storage.googleapis.com (storage.googleapis.com)|34.64.4.16|:443... connected.\n",
      "HTTP request sent, awaiting response... 200 OK\n",
      "Length: 68606236 (65M) [application/zip]\n",
      "Saving to: ‘/tmp/cats_and_dogs_filtered.zip’\n",
      "\n",
      "/tmp/cats_and_dogs_ 100%[===================>]  65.43M  32.5MB/s    in 2.0s    \n",
      "\n",
      "2021-05-23 18:13:51 (32.5 MB/s) - ‘/tmp/cats_and_dogs_filtered.zip’ saved [68606236/68606236]\n",
      "\n"
     ]
    }
   ],
   "source": [
    "!wget --no-check-certificate \\\n",
    "    https://storage.googleapis.com/mledu-datasets/cats_and_dogs_filtered.zip \\\n",
    "    -O /tmp/cats_and_dogs_filtered.zip"
   ]
  },
  {
   "cell_type": "code",
   "execution_count": 2,
   "metadata": {},
   "outputs": [],
   "source": [
    "import os\n",
    "import zipfile\n",
    "import tensorflow as tf\n",
    "from tensorflow.keras.optimizers import RMSprop\n",
    "from tensorflow.keras.preprocessing.image import ImageDataGenerator"
   ]
  },
  {
   "cell_type": "code",
   "execution_count": 3,
   "metadata": {},
   "outputs": [],
   "source": [
    "local_zip = '/tmp/cats_and_dogs_filtered.zip'\n",
    "zip_ref = zipfile.ZipFile(local_zip, 'r')\n",
    "zip_ref.extractall('/tmp')\n",
    "zip_ref.close()"
   ]
  },
  {
   "cell_type": "code",
   "execution_count": 4,
   "metadata": {},
   "outputs": [],
   "source": [
    "base_dir = '/tmp/cats_and_dogs_filtered'\n",
    "train_dir = os.path.join(base_dir, 'train')\n",
    "validation_dir = os.path.join(base_dir, 'validation')"
   ]
  },
  {
   "cell_type": "code",
   "execution_count": 5,
   "metadata": {},
   "outputs": [],
   "source": [
    "train_cats_dir = os.path.join(train_dir, 'cats')\n",
    "train_dogs_dir = os.path.join(train_dir, 'dogs')\n",
    "\n",
    "validation_cats_dir = os.path.join(validation_dir, 'cats')\n",
    "validation_dogs_dir = os.path.join(validation_dir, 'dogs')"
   ]
  },
  {
   "cell_type": "code",
   "execution_count": 6,
   "metadata": {},
   "outputs": [],
   "source": [
    "model = tf.keras.models.Sequential([\n",
    "    tf.keras.layers.Conv2D(32, (3,3), activation='relu', input_shape=(150, 150, 3)),\n",
    "    tf.keras.layers.MaxPooling2D(2, 2),\n",
    "    \n",
    "    tf.keras.layers.Conv2D(64, (3,3), activation='relu'),\n",
    "    tf.keras.layers.MaxPooling2D(2,2),\n",
    "    \n",
    "    tf.keras.layers.Conv2D(128, (3,3), activation='relu'),\n",
    "    tf.keras.layers.MaxPooling2D(2,2),\n",
    "    \n",
    "    tf.keras.layers.Conv2D(128, (3,3), activation='relu'),\n",
    "    tf.keras.layers.MaxPooling2D(2,2),\n",
    "    \n",
    "    tf.keras.layers.Flatten(),\n",
    "    tf.keras.layers.Dense(512, activation='relu'),\n",
    "    tf.keras.layers.Dense(1, activation='sigmoid')\n",
    "])"
   ]
  },
  {
   "cell_type": "code",
   "execution_count": 7,
   "metadata": {},
   "outputs": [],
   "source": [
    "model.compile(\n",
    "    loss='binary_crossentropy',\n",
    "    optimizer=RMSprop(lr=1e-4),\n",
    "    metrics=['accuracy']\n",
    ")"
   ]
  },
  {
   "cell_type": "code",
   "execution_count": 8,
   "metadata": {},
   "outputs": [],
   "source": [
    "train_datagen = ImageDataGenerator(\n",
    "      rescale=1./255,\n",
    "      rotation_range=40,\n",
    "      width_shift_range=0.2,\n",
    "      height_shift_range=0.2,\n",
    "      shear_range=0.2,\n",
    "      zoom_range=0.2,\n",
    "      horizontal_flip=True,\n",
    "      fill_mode='nearest')\n",
    "test_datagen = ImageDataGenerator(rescale=1./255)"
   ]
  },
  {
   "cell_type": "code",
   "execution_count": 9,
   "metadata": {},
   "outputs": [
    {
     "name": "stdout",
     "output_type": "stream",
     "text": [
      "Found 2000 images belonging to 2 classes.\n"
     ]
    }
   ],
   "source": [
    "train_generator = train_datagen.flow_from_directory(\n",
    "    train_dir,\n",
    "    target_size = (150, 150),\n",
    "    batch_size = 20,\n",
    "    class_mode = 'binary'\n",
    ")"
   ]
  },
  {
   "cell_type": "code",
   "execution_count": 10,
   "metadata": {},
   "outputs": [
    {
     "name": "stdout",
     "output_type": "stream",
     "text": [
      "Found 1000 images belonging to 2 classes.\n"
     ]
    }
   ],
   "source": [
    "validation_generator = test_datagen.flow_from_directory(\n",
    "    validation_dir,\n",
    "    target_size = (150, 150),\n",
    "    batch_size = 20,\n",
    "    class_mode = 'binary'\n",
    ")"
   ]
  },
  {
   "cell_type": "code",
   "execution_count": 11,
   "metadata": {},
   "outputs": [
    {
     "name": "stdout",
     "output_type": "stream",
     "text": [
      "Epoch 1/50\n",
      "100/100 [==============================] - 21s 204ms/step - loss: 0.6941 - accuracy: 0.5450 - val_loss: 0.6807 - val_accuracy: 0.5700\n",
      "Epoch 2/50\n",
      "100/100 [==============================] - 20s 200ms/step - loss: 0.6847 - accuracy: 0.5457 - val_loss: 0.6515 - val_accuracy: 0.6160\n",
      "Epoch 3/50\n",
      "100/100 [==============================] - 20s 200ms/step - loss: 0.6689 - accuracy: 0.5861 - val_loss: 0.6367 - val_accuracy: 0.6160\n",
      "Epoch 4/50\n",
      "100/100 [==============================] - 20s 201ms/step - loss: 0.6520 - accuracy: 0.6198 - val_loss: 0.6090 - val_accuracy: 0.6710\n",
      "Epoch 5/50\n",
      "100/100 [==============================] - 20s 200ms/step - loss: 0.6387 - accuracy: 0.6310 - val_loss: 0.6044 - val_accuracy: 0.6680\n",
      "Epoch 6/50\n",
      "100/100 [==============================] - 20s 201ms/step - loss: 0.6257 - accuracy: 0.6296 - val_loss: 0.5771 - val_accuracy: 0.6940\n",
      "Epoch 7/50\n",
      "100/100 [==============================] - 20s 201ms/step - loss: 0.6112 - accuracy: 0.6461 - val_loss: 0.5872 - val_accuracy: 0.6920\n",
      "Epoch 8/50\n",
      "100/100 [==============================] - 20s 200ms/step - loss: 0.6000 - accuracy: 0.6745 - val_loss: 0.5825 - val_accuracy: 0.6960\n",
      "Epoch 9/50\n",
      "100/100 [==============================] - 20s 200ms/step - loss: 0.6009 - accuracy: 0.6862 - val_loss: 0.5467 - val_accuracy: 0.7050\n",
      "Epoch 10/50\n",
      "100/100 [==============================] - 20s 200ms/step - loss: 0.5769 - accuracy: 0.6870 - val_loss: 0.5525 - val_accuracy: 0.7100\n",
      "Epoch 11/50\n",
      "100/100 [==============================] - 20s 201ms/step - loss: 0.5939 - accuracy: 0.6572 - val_loss: 0.5385 - val_accuracy: 0.7180\n",
      "Epoch 12/50\n",
      "100/100 [==============================] - 20s 200ms/step - loss: 0.5571 - accuracy: 0.7235 - val_loss: 0.5566 - val_accuracy: 0.6980\n",
      "Epoch 13/50\n",
      "100/100 [==============================] - 20s 201ms/step - loss: 0.5704 - accuracy: 0.6829 - val_loss: 0.5233 - val_accuracy: 0.7390\n",
      "Epoch 14/50\n",
      "100/100 [==============================] - 20s 200ms/step - loss: 0.5616 - accuracy: 0.7019 - val_loss: 0.5270 - val_accuracy: 0.7280\n",
      "Epoch 15/50\n",
      "100/100 [==============================] - 20s 201ms/step - loss: 0.5618 - accuracy: 0.7121 - val_loss: 0.5263 - val_accuracy: 0.7360\n",
      "Epoch 16/50\n",
      "100/100 [==============================] - 20s 200ms/step - loss: 0.5395 - accuracy: 0.7214 - val_loss: 0.5048 - val_accuracy: 0.7590\n",
      "Epoch 17/50\n",
      "100/100 [==============================] - 20s 201ms/step - loss: 0.5380 - accuracy: 0.7268 - val_loss: 0.5325 - val_accuracy: 0.7200\n",
      "Epoch 18/50\n",
      "100/100 [==============================] - 20s 201ms/step - loss: 0.5378 - accuracy: 0.7195 - val_loss: 0.4953 - val_accuracy: 0.7610\n",
      "Epoch 19/50\n",
      "100/100 [==============================] - 20s 201ms/step - loss: 0.5559 - accuracy: 0.7179 - val_loss: 0.5200 - val_accuracy: 0.7290\n",
      "Epoch 20/50\n",
      "100/100 [==============================] - 20s 200ms/step - loss: 0.5207 - accuracy: 0.7353 - val_loss: 0.5040 - val_accuracy: 0.7460\n",
      "Epoch 21/50\n",
      "100/100 [==============================] - 20s 201ms/step - loss: 0.5150 - accuracy: 0.7399 - val_loss: 0.6252 - val_accuracy: 0.6860\n",
      "Epoch 22/50\n",
      "100/100 [==============================] - 20s 200ms/step - loss: 0.5336 - accuracy: 0.7394 - val_loss: 0.5108 - val_accuracy: 0.7460\n",
      "Epoch 23/50\n",
      "100/100 [==============================] - 20s 200ms/step - loss: 0.5311 - accuracy: 0.7443 - val_loss: 0.4861 - val_accuracy: 0.7550\n",
      "Epoch 24/50\n",
      "100/100 [==============================] - 20s 200ms/step - loss: 0.5003 - accuracy: 0.7544 - val_loss: 0.4969 - val_accuracy: 0.7550\n",
      "Epoch 25/50\n",
      "100/100 [==============================] - 20s 200ms/step - loss: 0.5115 - accuracy: 0.7348 - val_loss: 0.5056 - val_accuracy: 0.7480\n",
      "Epoch 26/50\n",
      "100/100 [==============================] - 20s 200ms/step - loss: 0.4980 - accuracy: 0.7434 - val_loss: 0.5000 - val_accuracy: 0.7520\n",
      "Epoch 27/50\n",
      "100/100 [==============================] - 20s 200ms/step - loss: 0.4931 - accuracy: 0.7530 - val_loss: 0.4906 - val_accuracy: 0.7520\n",
      "Epoch 28/50\n",
      "100/100 [==============================] - 20s 200ms/step - loss: 0.5238 - accuracy: 0.7373 - val_loss: 0.5672 - val_accuracy: 0.7150\n",
      "Epoch 29/50\n",
      "100/100 [==============================] - 20s 199ms/step - loss: 0.4913 - accuracy: 0.7610 - val_loss: 0.4745 - val_accuracy: 0.7730\n",
      "Epoch 30/50\n",
      "100/100 [==============================] - 20s 200ms/step - loss: 0.4654 - accuracy: 0.7725 - val_loss: 0.5255 - val_accuracy: 0.7350\n",
      "Epoch 31/50\n",
      "100/100 [==============================] - 20s 200ms/step - loss: 0.5067 - accuracy: 0.7452 - val_loss: 0.4934 - val_accuracy: 0.7590\n",
      "Epoch 32/50\n",
      "100/100 [==============================] - 20s 200ms/step - loss: 0.5016 - accuracy: 0.7636 - val_loss: 0.4611 - val_accuracy: 0.7770\n",
      "Epoch 33/50\n",
      "100/100 [==============================] - 20s 200ms/step - loss: 0.5039 - accuracy: 0.7442 - val_loss: 0.4655 - val_accuracy: 0.7820\n",
      "Epoch 34/50\n",
      "100/100 [==============================] - 20s 201ms/step - loss: 0.4876 - accuracy: 0.7528 - val_loss: 0.4656 - val_accuracy: 0.7710\n",
      "Epoch 35/50\n",
      "100/100 [==============================] - 20s 200ms/step - loss: 0.4908 - accuracy: 0.7565 - val_loss: 0.4790 - val_accuracy: 0.7610\n",
      "Epoch 36/50\n",
      "100/100 [==============================] - 20s 200ms/step - loss: 0.5050 - accuracy: 0.7594 - val_loss: 0.4634 - val_accuracy: 0.7770\n",
      "Epoch 37/50\n",
      "100/100 [==============================] - 20s 200ms/step - loss: 0.4546 - accuracy: 0.7860 - val_loss: 0.4700 - val_accuracy: 0.7670\n",
      "Epoch 38/50\n",
      "100/100 [==============================] - 20s 200ms/step - loss: 0.4637 - accuracy: 0.7793 - val_loss: 0.4564 - val_accuracy: 0.7890\n",
      "Epoch 39/50\n",
      "100/100 [==============================] - 20s 199ms/step - loss: 0.5075 - accuracy: 0.7593 - val_loss: 0.4746 - val_accuracy: 0.7700\n",
      "Epoch 40/50\n",
      "100/100 [==============================] - 20s 199ms/step - loss: 0.4764 - accuracy: 0.7818 - val_loss: 0.4973 - val_accuracy: 0.7460\n",
      "Epoch 41/50\n",
      "100/100 [==============================] - 20s 200ms/step - loss: 0.4648 - accuracy: 0.7913 - val_loss: 0.5269 - val_accuracy: 0.7460\n",
      "Epoch 42/50\n",
      "100/100 [==============================] - 20s 200ms/step - loss: 0.4835 - accuracy: 0.7578 - val_loss: 0.4621 - val_accuracy: 0.7710\n",
      "Epoch 43/50\n",
      "100/100 [==============================] - 20s 200ms/step - loss: 0.4551 - accuracy: 0.7812 - val_loss: 0.4579 - val_accuracy: 0.8010\n",
      "Epoch 44/50\n",
      "100/100 [==============================] - 20s 200ms/step - loss: 0.4485 - accuracy: 0.7767 - val_loss: 0.4564 - val_accuracy: 0.7800\n",
      "Epoch 45/50\n",
      "100/100 [==============================] - 20s 200ms/step - loss: 0.4332 - accuracy: 0.8060 - val_loss: 0.4585 - val_accuracy: 0.7880\n",
      "Epoch 46/50\n",
      "100/100 [==============================] - 20s 200ms/step - loss: 0.4508 - accuracy: 0.7997 - val_loss: 0.4326 - val_accuracy: 0.8050\n",
      "Epoch 47/50\n",
      "100/100 [==============================] - 20s 201ms/step - loss: 0.4322 - accuracy: 0.7960 - val_loss: 0.4409 - val_accuracy: 0.7970\n",
      "Epoch 48/50\n",
      "100/100 [==============================] - 20s 200ms/step - loss: 0.4376 - accuracy: 0.7865 - val_loss: 0.4651 - val_accuracy: 0.7870\n",
      "Epoch 49/50\n",
      "100/100 [==============================] - 20s 200ms/step - loss: 0.4526 - accuracy: 0.7779 - val_loss: 0.4549 - val_accuracy: 0.8000\n",
      "Epoch 50/50\n",
      "100/100 [==============================] - 20s 200ms/step - loss: 0.4425 - accuracy: 0.7847 - val_loss: 0.4526 - val_accuracy: 0.7880\n"
     ]
    }
   ],
   "source": [
    "history = model.fit(\n",
    "    train_generator,\n",
    "    steps_per_epoch = 100,\n",
    "    epochs = 50,\n",
    "    validation_data = validation_generator,\n",
    "    validation_steps = 50,\n",
    ")"
   ]
  },
  {
   "cell_type": "code",
   "execution_count": 12,
   "metadata": {},
   "outputs": [
    {
     "data": {
      "image/png": "[encoded data removed]",
      "text/plain": [
       "<Figure size 432x288 with 1 Axes>"
      ]
     },
     "metadata": {
      "needs_background": "light"
     },
     "output_type": "display_data"
    },
    {
     "data": {
      "image/png": "[encoded data removed]",
      "text/plain": [
       "<Figure size 432x288 with 1 Axes>"
      ]
     },
     "metadata": {
      "needs_background": "light"
     },
     "output_type": "display_data"
    }
   ],
   "source": [
    "import matplotlib.pyplot as plt\n",
    "acc = history.history['accuracy']\n",
    "val_acc = history.history['val_accuracy']\n",
    "loss = history.history['loss']\n",
    "val_loss = history.history['val_loss']\n",
    "\n",
    "epochs = range(len(acc))\n",
    "\n",
    "plt.plot(epochs, acc, 'bo', label='Training accuracy')\n",
    "plt.plot(epochs, val_acc, 'b', label='Validation accuracy')\n",
    "plt.title('Training and validation accuracy')\n",
    "\n",
    "plt.figure()\n",
    "\n",
    "plt.plot(epochs, loss, 'bo', label='Training Loss')\n",
    "plt.plot(epochs, val_loss, 'b', label='Validation Loss')\n",
    "plt.title('Training and validation loss')\n",
    "plt.legend()\n",
    "\n",
    "plt.show()"
   ]
  },
  {
   "cell_type": "code",
   "execution_count": null,
   "metadata": {},
   "outputs": [],
   "source": []
  }
 ],
 "metadata": {
  "kernelspec": {
   "display_name": "Python 3",
   "language": "python",
   "name": "python3"
  },
  "language_info": {
   "codemirror_mode": {
    "name": "ipython",
    "version": 3
   },
   "file_extension": ".py",
   "mimetype": "text/x-python",
   "name": "python",
   "nbconvert_exporter": "python",
   "pygments_lexer": "ipython3",
   "version": "3.8.5"
  }
 },
 "nbformat": 4,
 "nbformat_minor": 4
}
