{
 "cells": [
  {
   "cell_type": "code",
   "execution_count": 1,
   "metadata": {},
   "outputs": [],
   "source": [
    "import os\n",
    "\n",
    "from tensorflow.keras import layers\n",
    "from tensorflow.keras import Model"
   ]
  },
  {
   "cell_type": "code",
   "execution_count": 3,
   "metadata": {},
   "outputs": [],
   "source": [
    "from tensorflow.keras.applications.inception_v3 import InceptionV3"
   ]
  },
  {
   "cell_type": "code",
   "execution_count": 4,
   "metadata": {},
   "outputs": [],
   "source": [
    "local_weights_file = '/tmp/inception_v3_weights_tf_dim_ordering_tf_kernels_notop.h5'\n",
    "\n",
    "pre_trained_model = InceptionV3(\n",
    "    input_shape = (150, 150, 3), \n",
    "    include_top = False, \n",
    "    weights = None\n",
    ")\n",
    "\n",
    "pre_trained_model.load_weights(local_weights_file)"
   ]
  },
  {
   "cell_type": "code",
   "execution_count": 5,
   "metadata": {},
   "outputs": [
    {
     "name": "stdout",
     "output_type": "stream",
     "text": [
      "last layer output shape:  (None, 7, 7, 768)\n"
     ]
    }
   ],
   "source": [
    "for layer in pre_trained_model.layers:\n",
    "    layer.trainable = False\n",
    "\n",
    "last_layer = pre_trained_model.get_layer('mixed7')\n",
    "print('last layer output shape: ', last_layer.output_shape)\n",
    "last_output = last_layer.output"
   ]
  },
  {
   "cell_type": "code",
   "execution_count": 6,
   "metadata": {},
   "outputs": [],
   "source": [
    "from tensorflow.keras.optimizers import RMSprop"
   ]
  },
  {
   "cell_type": "code",
   "execution_count": 7,
   "metadata": {},
   "outputs": [],
   "source": [
    "x = layers.Flatten()(last_output)\n",
    "x = layers.Dense(1024, activation='relu')(x)\n",
    "x = layers.Dropout(0.2)(x)                  \n",
    "x = layers.Dense(1, activation='sigmoid')(x) "
   ]
  },
  {
   "cell_type": "code",
   "execution_count": 8,
   "metadata": {},
   "outputs": [],
   "source": [
    "model = Model(pre_trained_model.input, x) \n",
    "\n",
    "model.compile(\n",
    "    optimizer = RMSprop(lr=0.0001), \n",
    "    loss = 'binary_crossentropy', \n",
    "    metrics = ['accuracy']\n",
    ")"
   ]
  },
  {
   "cell_type": "code",
   "execution_count": 10,
   "metadata": {},
   "outputs": [],
   "source": [
    "from tensorflow.keras.preprocessing.image import ImageDataGenerator\n",
    "import os\n",
    "import zipfile"
   ]
  },
  {
   "cell_type": "code",
   "execution_count": 11,
   "metadata": {},
   "outputs": [],
   "source": [
    "local_zip = '//tmp/cats_and_dogs_filtered.zip'\n",
    "\n",
    "zip_ref = zipfile.ZipFile(local_zip, 'r')\n",
    "\n",
    "zip_ref.extractall('/tmp')\n",
    "zip_ref.close()"
   ]
  },
  {
   "cell_type": "code",
   "execution_count": 12,
   "metadata": {},
   "outputs": [],
   "source": [
    "base_dir = '/tmp/cats_and_dogs_filtered'\n",
    "\n",
    "train_dir = os.path.join( base_dir, 'train')\n",
    "validation_dir = os.path.join( base_dir, 'validation')\n",
    "\n",
    "\n",
    "train_cats_dir = os.path.join(train_dir, 'cats') # Directory with our training cat pictures\n",
    "train_dogs_dir = os.path.join(train_dir, 'dogs') # Directory with our training dog pictures\n",
    "validation_cats_dir = os.path.join(validation_dir, 'cats') # Directory with our validation cat pictures\n",
    "validation_dogs_dir = os.path.join(validation_dir, 'dogs')# Directory with our validation dog pictures\n",
    "\n",
    "train_cat_fnames = os.listdir(train_cats_dir)\n",
    "train_dog_fnames = os.listdir(train_dogs_dir)"
   ]
  },
  {
   "cell_type": "code",
   "execution_count": 13,
   "metadata": {},
   "outputs": [],
   "source": [
    "train_datagen = ImageDataGenerator(\n",
    "    rescale = 1./255.,\n",
    "    rotation_range = 40,\n",
    "    width_shift_range = 0.2,\n",
    "    height_shift_range = 0.2,\n",
    "    shear_range = 0.2,\n",
    "    zoom_range = 0.2,\n",
    "    horizontal_flip = True\n",
    ")\n",
    "\n",
    "test_datagen = ImageDataGenerator(rescale = 1.0/255.)"
   ]
  },
  {
   "cell_type": "code",
   "execution_count": 14,
   "metadata": {},
   "outputs": [
    {
     "name": "stdout",
     "output_type": "stream",
     "text": [
      "Found 2000 images belonging to 2 classes.\n",
      "Found 1000 images belonging to 2 classes.\n"
     ]
    }
   ],
   "source": [
    "train_generator = train_datagen.flow_from_directory(train_dir,\n",
    "                                                    batch_size = 20,\n",
    "                                                    class_mode = 'binary', \n",
    "                                                    target_size = (150, 150))     \n",
    "\n",
    "validation_generator =  test_datagen.flow_from_directory( validation_dir,\n",
    "                                                          batch_size  = 20,\n",
    "                                                          class_mode  = 'binary', \n",
    "                                                          target_size = (150, 150))"
   ]
  },
  {
   "cell_type": "code",
   "execution_count": 15,
   "metadata": {},
   "outputs": [
    {
     "name": "stdout",
     "output_type": "stream",
     "text": [
      "Epoch 1/20\n",
      "100/100 [==============================] - 32s 294ms/step - loss: 0.5592 - accuracy: 0.7816 - val_loss: 0.0940 - val_accuracy: 0.9630\n",
      "Epoch 2/20\n",
      "100/100 [==============================] - 29s 287ms/step - loss: 0.2069 - accuracy: 0.9253 - val_loss: 0.1129 - val_accuracy: 0.9590\n",
      "Epoch 3/20\n",
      "100/100 [==============================] - 29s 289ms/step - loss: 0.1934 - accuracy: 0.9204 - val_loss: 0.1018 - val_accuracy: 0.9600\n",
      "Epoch 4/20\n",
      "100/100 [==============================] - 29s 288ms/step - loss: 0.1812 - accuracy: 0.9375 - val_loss: 0.1473 - val_accuracy: 0.9520\n",
      "Epoch 5/20\n",
      "100/100 [==============================] - 29s 287ms/step - loss: 0.2205 - accuracy: 0.9262 - val_loss: 0.1618 - val_accuracy: 0.9490\n",
      "Epoch 6/20\n",
      "100/100 [==============================] - 29s 288ms/step - loss: 0.1690 - accuracy: 0.9384 - val_loss: 0.3275 - val_accuracy: 0.9100\n",
      "Epoch 7/20\n",
      "100/100 [==============================] - 29s 288ms/step - loss: 0.1969 - accuracy: 0.9442 - val_loss: 0.1123 - val_accuracy: 0.9630\n",
      "Epoch 8/20\n",
      "100/100 [==============================] - 29s 288ms/step - loss: 0.1749 - accuracy: 0.9415 - val_loss: 0.1125 - val_accuracy: 0.9580\n",
      "Epoch 9/20\n",
      "100/100 [==============================] - 29s 287ms/step - loss: 0.1584 - accuracy: 0.9492 - val_loss: 0.1147 - val_accuracy: 0.9650\n",
      "Epoch 10/20\n",
      "100/100 [==============================] - 29s 288ms/step - loss: 0.1735 - accuracy: 0.9423 - val_loss: 0.1151 - val_accuracy: 0.9610\n",
      "Epoch 11/20\n",
      "100/100 [==============================] - 29s 288ms/step - loss: 0.1675 - accuracy: 0.9476 - val_loss: 0.1646 - val_accuracy: 0.9510\n",
      "Epoch 12/20\n",
      "100/100 [==============================] - 29s 288ms/step - loss: 0.1462 - accuracy: 0.9504 - val_loss: 0.1208 - val_accuracy: 0.9610\n",
      "Epoch 13/20\n",
      "100/100 [==============================] - 29s 287ms/step - loss: 0.1441 - accuracy: 0.9533 - val_loss: 0.0956 - val_accuracy: 0.9710\n",
      "Epoch 14/20\n",
      "100/100 [==============================] - 29s 288ms/step - loss: 0.1257 - accuracy: 0.9597 - val_loss: 0.1343 - val_accuracy: 0.9570\n",
      "Epoch 15/20\n",
      "100/100 [==============================] - 29s 288ms/step - loss: 0.1357 - accuracy: 0.9562 - val_loss: 0.1066 - val_accuracy: 0.9700\n",
      "Epoch 16/20\n",
      "100/100 [==============================] - 29s 287ms/step - loss: 0.1322 - accuracy: 0.9577 - val_loss: 0.1608 - val_accuracy: 0.9550\n",
      "Epoch 17/20\n",
      "100/100 [==============================] - 29s 288ms/step - loss: 0.1281 - accuracy: 0.9534 - val_loss: 0.1207 - val_accuracy: 0.9620\n",
      "Epoch 18/20\n",
      "100/100 [==============================] - 29s 287ms/step - loss: 0.1184 - accuracy: 0.9607 - val_loss: 0.1192 - val_accuracy: 0.9680\n",
      "Epoch 19/20\n",
      "100/100 [==============================] - 29s 286ms/step - loss: 0.1372 - accuracy: 0.9561 - val_loss: 0.1311 - val_accuracy: 0.9620\n",
      "Epoch 20/20\n",
      "100/100 [==============================] - 29s 286ms/step - loss: 0.1116 - accuracy: 0.9666 - val_loss: 0.0979 - val_accuracy: 0.9710\n"
     ]
    }
   ],
   "source": [
    "history = model.fit(\n",
    "            train_generator,\n",
    "            validation_data = validation_generator,\n",
    "            steps_per_epoch = 100,\n",
    "            epochs = 20,\n",
    "            validation_steps = 50,\n",
    "            verbose = 1\n",
    ")"
   ]
  },
  {
   "cell_type": "code",
   "execution_count": 16,
   "metadata": {},
   "outputs": [],
   "source": [
    "import matplotlib.pyplot as plt"
   ]
  },
  {
   "cell_type": "code",
   "execution_count": 17,
   "metadata": {},
   "outputs": [],
   "source": [
    "acc = history.history['accuracy']\n",
    "val_acc = history.history['val_accuracy']\n",
    "loss = history.history['loss']\n",
    "val_loss = history.history['val_loss']"
   ]
  },
  {
   "cell_type": "code",
   "execution_count": 18,
   "metadata": {},
   "outputs": [],
   "source": [
    "epochs = range(len(acc))"
   ]
  },
  {
   "cell_type": "code",
   "execution_count": 20,
   "metadata": {},
   "outputs": [
    {
     "data": {
      "image/png": "[encoded data removed]",
      "text/plain": [
       "<Figure size 432x288 with 1 Axes>"
      ]
     },
     "metadata": {
      "needs_background": "light"
     },
     "output_type": "display_data"
    },
    {
     "data": {
      "text/plain": [
       "<Figure size 432x288 with 0 Axes>"
      ]
     },
     "metadata": {},
     "output_type": "display_data"
    }
   ],
   "source": [
    "plt.plot(epochs, acc, 'r', label='Training accuracy')\n",
    "plt.plot(epochs, val_acc, 'b', label='Validation accuracy')\n",
    "plt.title('Training and validation accuracy')\n",
    "plt.legend(loc=0)\n",
    "plt.figure()\n",
    "\n",
    "plt.show()"
   ]
  },
  {
   "cell_type": "code",
   "execution_count": null,
   "metadata": {},
   "outputs": [],
   "source": []
  }
 ],
 "metadata": {
  "kernelspec": {
   "display_name": "Python 3",
   "language": "python",
   "name": "python3"
  },
  "language_info": {
   "codemirror_mode": {
    "name": "ipython",
    "version": 3
   },
   "file_extension": ".py",
   "mimetype": "text/x-python",
   "name": "python",
   "nbconvert_exporter": "python",
   "pygments_lexer": "ipython3",
   "version": "3.8.5"
  }
 },
 "nbformat": 4,
 "nbformat_minor": 4
}
