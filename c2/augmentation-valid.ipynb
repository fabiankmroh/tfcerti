{
 "cells": [
  {
   "cell_type": "code",
   "execution_count": 1,
   "metadata": {},
   "outputs": [],
   "source": [
    "import os\n",
    "import zipfile\n",
    "import tensorflow as tf\n",
    "from tensorflow.keras.optimizers import RMSprop\n",
    "from tensorflow.keras.preprocessing.image import ImageDataGenerator"
   ]
  },
  {
   "cell_type": "code",
   "execution_count": 2,
   "metadata": {},
   "outputs": [],
   "source": [
    "local_zip = '/tmp/cats_and_dogs_filtered.zip'\n",
    "zip_ref = zipfile.ZipFile(local_zip, 'r')\n",
    "zip_ref.extractall('/tmp')\n",
    "zip_ref.close()"
   ]
  },
  {
   "cell_type": "code",
   "execution_count": 3,
   "metadata": {},
   "outputs": [],
   "source": [
    "base_dir = '/tmp/cats_and_dogs_filtered'\n",
    "train_dir = os.path.join(base_dir, 'train')\n",
    "validation_dir = os.path.join(base_dir, 'validation')"
   ]
  },
  {
   "cell_type": "code",
   "execution_count": 4,
   "metadata": {},
   "outputs": [],
   "source": [
    "train_cats_dir = os.path.join(train_dir, 'cats')\n",
    "train_dogs_dir = os.path.join(train_dir, 'dogs')\n",
    "\n",
    "validation_cats_dir = os.path.join(validation_dir, 'cats')\n",
    "validation_dogs_dir = os.path.join(validation_dir, 'dogs')"
   ]
  },
  {
   "cell_type": "code",
   "execution_count": 5,
   "metadata": {},
   "outputs": [],
   "source": [
    "model = tf.keras.models.Sequential([\n",
    "    tf.keras.layers.Conv2D(16, (3,3), activation='relu', input_shape=(300, 300, 3)),\n",
    "    tf.keras.layers.MaxPooling2D(2, 2),\n",
    "    \n",
    "    tf.keras.layers.Conv2D(32, (3,3), activation='relu'),\n",
    "    tf.keras.layers.MaxPooling2D(2,2),\n",
    "    \n",
    "    tf.keras.layers.Conv2D(64, (3,3), activation='relu'),\n",
    "    tf.keras.layers.MaxPooling2D(2,2),\n",
    "    \n",
    "    tf.keras.layers.Conv2D(64, (3,3), activation='relu'),\n",
    "    tf.keras.layers.MaxPooling2D(2,2),\n",
    "    \n",
    "    tf.keras.layers.Conv2D(64, (3,3), activation='relu'),\n",
    "    tf.keras.layers.MaxPooling2D(2,2),\n",
    "    \n",
    "    tf.keras.layers.Conv2D(64, (3,3), activation='relu'),\n",
    "    tf.keras.layers.MaxPooling2D(2,2),\n",
    "    \n",
    "    tf.keras.layers.Flatten(),\n",
    "    tf.keras.layers.Dense(512, activation='relu'),\n",
    "    tf.keras.layers.Dense(1, activation='sigmoid')\n",
    "])"
   ]
  },
  {
   "cell_type": "code",
   "execution_count": 6,
   "metadata": {},
   "outputs": [],
   "source": [
    "model.compile(\n",
    "    loss='binary_crossentropy',\n",
    "    optimizer=RMSprop(lr=1e-4),\n",
    "    metrics=['accuracy']\n",
    ")"
   ]
  },
  {
   "cell_type": "code",
   "execution_count": 7,
   "metadata": {},
   "outputs": [],
   "source": [
    "train_datagen = ImageDataGenerator(\n",
    "      rescale=1./255,\n",
    "      rotation_range=40,\n",
    "      width_shift_range=0.2,\n",
    "      height_shift_range=0.2,\n",
    "      shear_range=0.2,\n",
    "      zoom_range=0.2,\n",
    "      horizontal_flip=True,\n",
    "      fill_mode='nearest')\n",
    "\n",
    "validation_datagen = ImageDataGenerator(rescale=1/255)\n",
    "\n",
    "test_datagen = ImageDataGenerator(rescale=1./255)"
   ]
  },
  {
   "cell_type": "code",
   "execution_count": 8,
   "metadata": {},
   "outputs": [
    {
     "name": "stdout",
     "output_type": "stream",
     "text": [
      "Found 1027 images belonging to 2 classes.\n"
     ]
    }
   ],
   "source": [
    "train_generator = train_datagen.flow_from_directory(\n",
    "        '/tmp/horse-or-human/',\n",
    "        target_size=(300, 300),\n",
    "        batch_size=128,\n",
    "        class_mode='binary'\n",
    ")"
   ]
  },
  {
   "cell_type": "code",
   "execution_count": 9,
   "metadata": {},
   "outputs": [
    {
     "name": "stdout",
     "output_type": "stream",
     "text": [
      "Found 256 images belonging to 2 classes.\n"
     ]
    }
   ],
   "source": [
    "validation_generator = validation_datagen.flow_from_directory(\n",
    "        '/tmp/validation-horse-or-human/',\n",
    "        target_size=(300, 300),\n",
    "        batch_size=32,\n",
    "        class_mode='binary'\n",
    ")"
   ]
  },
  {
   "cell_type": "code",
   "execution_count": 10,
   "metadata": {},
   "outputs": [
    {
     "name": "stdout",
     "output_type": "stream",
     "text": [
      "Epoch 1/50\n",
      "8/8 [==============================] - 26s 4s/step - loss: 0.6937 - accuracy: 0.4798 - val_loss: 0.6759 - val_accuracy: 0.5469\n",
      "Epoch 2/50\n",
      "8/8 [==============================] - 27s 3s/step - loss: 0.6811 - accuracy: 0.5888 - val_loss: 0.6759 - val_accuracy: 0.5000\n",
      "Epoch 3/50\n",
      "8/8 [==============================] - 27s 3s/step - loss: 0.6556 - accuracy: 0.6081 - val_loss: 0.6489 - val_accuracy: 0.5625\n",
      "Epoch 4/50\n",
      "8/8 [==============================] - 27s 3s/step - loss: 0.6256 - accuracy: 0.6960 - val_loss: 0.6016 - val_accuracy: 0.8008\n",
      "Epoch 5/50\n",
      "8/8 [==============================] - 27s 3s/step - loss: 0.5970 - accuracy: 0.7105 - val_loss: 0.5863 - val_accuracy: 0.6562\n",
      "Epoch 6/50\n",
      "8/8 [==============================] - 27s 3s/step - loss: 0.5615 - accuracy: 0.7227 - val_loss: 0.7030 - val_accuracy: 0.5312\n",
      "Epoch 7/50\n",
      "8/8 [==============================] - 27s 3s/step - loss: 0.5632 - accuracy: 0.7022 - val_loss: 0.6400 - val_accuracy: 0.5898\n",
      "Epoch 8/50\n",
      "8/8 [==============================] - 27s 3s/step - loss: 0.5171 - accuracy: 0.7470 - val_loss: 0.6435 - val_accuracy: 0.5977\n",
      "Epoch 9/50\n",
      "8/8 [==============================] - 27s 3s/step - loss: 0.5217 - accuracy: 0.7474 - val_loss: 0.6699 - val_accuracy: 0.6055\n",
      "Epoch 10/50\n",
      "8/8 [==============================] - 26s 4s/step - loss: 0.4663 - accuracy: 0.7710 - val_loss: 0.6693 - val_accuracy: 0.6328\n",
      "Epoch 11/50\n",
      "8/8 [==============================] - 27s 3s/step - loss: 0.5088 - accuracy: 0.7500 - val_loss: 1.0031 - val_accuracy: 0.5352\n",
      "Epoch 12/50\n",
      "8/8 [==============================] - 27s 3s/step - loss: 0.5101 - accuracy: 0.7420 - val_loss: 0.9134 - val_accuracy: 0.5977\n",
      "Epoch 13/50\n",
      "8/8 [==============================] - 27s 3s/step - loss: 0.4426 - accuracy: 0.8141 - val_loss: 0.9239 - val_accuracy: 0.6055\n",
      "Epoch 14/50\n",
      "8/8 [==============================] - 27s 3s/step - loss: 0.4677 - accuracy: 0.7761 - val_loss: 0.8992 - val_accuracy: 0.6172\n",
      "Epoch 15/50\n",
      "8/8 [==============================] - 27s 3s/step - loss: 0.4204 - accuracy: 0.8208 - val_loss: 0.8713 - val_accuracy: 0.6719\n",
      "Epoch 16/50\n",
      "8/8 [==============================] - 25s 4s/step - loss: 0.4156 - accuracy: 0.8109 - val_loss: 1.0815 - val_accuracy: 0.6172\n",
      "Epoch 17/50\n",
      "8/8 [==============================] - 26s 3s/step - loss: 0.4308 - accuracy: 0.8065 - val_loss: 0.5521 - val_accuracy: 0.7891\n",
      "Epoch 18/50\n",
      "8/8 [==============================] - 27s 3s/step - loss: 0.5473 - accuracy: 0.7438 - val_loss: 1.2915 - val_accuracy: 0.6172\n",
      "Epoch 19/50\n",
      "8/8 [==============================] - 27s 3s/step - loss: 0.4304 - accuracy: 0.8096 - val_loss: 1.2979 - val_accuracy: 0.6211\n",
      "Epoch 20/50\n",
      "8/8 [==============================] - 29s 3s/step - loss: 0.3784 - accuracy: 0.8365 - val_loss: 1.6742 - val_accuracy: 0.5703\n",
      "Epoch 21/50\n",
      "8/8 [==============================] - 27s 3s/step - loss: 0.3945 - accuracy: 0.8213 - val_loss: 1.3093 - val_accuracy: 0.6250\n",
      "Epoch 22/50\n",
      "8/8 [==============================] - 27s 3s/step - loss: 0.3889 - accuracy: 0.8218 - val_loss: 1.2867 - val_accuracy: 0.6250\n",
      "Epoch 23/50\n",
      "8/8 [==============================] - 27s 3s/step - loss: 0.3616 - accuracy: 0.8331 - val_loss: 1.4419 - val_accuracy: 0.6133\n",
      "Epoch 24/50\n",
      "8/8 [==============================] - 27s 3s/step - loss: 0.3563 - accuracy: 0.8442 - val_loss: 1.7638 - val_accuracy: 0.5703\n",
      "Epoch 25/50\n",
      "8/8 [==============================] - 27s 3s/step - loss: 0.3619 - accuracy: 0.8610 - val_loss: 1.3404 - val_accuracy: 0.6328\n",
      "Epoch 26/50\n",
      "8/8 [==============================] - 25s 4s/step - loss: 0.4383 - accuracy: 0.7743 - val_loss: 1.0399 - val_accuracy: 0.6641\n",
      "Epoch 27/50\n",
      "8/8 [==============================] - 27s 3s/step - loss: 0.3543 - accuracy: 0.8533 - val_loss: 1.8498 - val_accuracy: 0.5664\n",
      "Epoch 28/50\n",
      "8/8 [==============================] - 29s 3s/step - loss: 0.3070 - accuracy: 0.8714 - val_loss: 1.6201 - val_accuracy: 0.6055\n",
      "Epoch 29/50\n",
      "8/8 [==============================] - 27s 3s/step - loss: 0.3380 - accuracy: 0.8476 - val_loss: 1.2201 - val_accuracy: 0.6758\n",
      "Epoch 30/50\n",
      "8/8 [==============================] - 29s 3s/step - loss: 0.3103 - accuracy: 0.8618 - val_loss: 1.5369 - val_accuracy: 0.6289\n",
      "Epoch 31/50\n",
      "8/8 [==============================] - 27s 3s/step - loss: 0.4121 - accuracy: 0.8403 - val_loss: 1.9013 - val_accuracy: 0.5820\n",
      "Epoch 32/50\n",
      "8/8 [==============================] - 27s 3s/step - loss: 0.3248 - accuracy: 0.8562 - val_loss: 1.8712 - val_accuracy: 0.5859\n",
      "Epoch 33/50\n",
      "8/8 [==============================] - 27s 3s/step - loss: 0.2580 - accuracy: 0.8905 - val_loss: 2.3712 - val_accuracy: 0.5547\n",
      "Epoch 34/50\n",
      "8/8 [==============================] - 27s 3s/step - loss: 0.3963 - accuracy: 0.8187 - val_loss: 1.6164 - val_accuracy: 0.6094\n",
      "Epoch 35/50\n",
      "8/8 [==============================] - 27s 3s/step - loss: 0.2985 - accuracy: 0.8794 - val_loss: 1.5445 - val_accuracy: 0.6562\n",
      "Epoch 36/50\n",
      "8/8 [==============================] - 27s 3s/step - loss: 0.2684 - accuracy: 0.8910 - val_loss: 1.3955 - val_accuracy: 0.6797\n",
      "Epoch 37/50\n",
      "8/8 [==============================] - 25s 3s/step - loss: 0.3028 - accuracy: 0.8668 - val_loss: 3.7916 - val_accuracy: 0.5000\n",
      "Epoch 38/50\n",
      "8/8 [==============================] - 27s 3s/step - loss: 0.4226 - accuracy: 0.7886 - val_loss: 1.9725 - val_accuracy: 0.5977\n",
      "Epoch 39/50\n",
      "8/8 [==============================] - 27s 3s/step - loss: 0.2698 - accuracy: 0.8764 - val_loss: 1.8576 - val_accuracy: 0.6133\n",
      "Epoch 40/50\n",
      "8/8 [==============================] - 27s 3s/step - loss: 0.2395 - accuracy: 0.9161 - val_loss: 2.3894 - val_accuracy: 0.5664\n",
      "Epoch 41/50\n",
      "8/8 [==============================] - 27s 3s/step - loss: 0.2267 - accuracy: 0.9110 - val_loss: 2.3282 - val_accuracy: 0.5781\n",
      "Epoch 42/50\n",
      "8/8 [==============================] - 27s 3s/step - loss: 0.2583 - accuracy: 0.8889 - val_loss: 2.2572 - val_accuracy: 0.5781\n",
      "Epoch 43/50\n",
      "8/8 [==============================] - 27s 3s/step - loss: 0.2211 - accuracy: 0.9308 - val_loss: 2.0982 - val_accuracy: 0.6094\n",
      "Epoch 44/50\n",
      "8/8 [==============================] - 27s 3s/step - loss: 0.2428 - accuracy: 0.8994 - val_loss: 2.5576 - val_accuracy: 0.5625\n",
      "Epoch 45/50\n",
      "8/8 [==============================] - 27s 3s/step - loss: 0.2115 - accuracy: 0.9208 - val_loss: 2.0207 - val_accuracy: 0.6367\n",
      "Epoch 46/50\n",
      "8/8 [==============================] - 25s 3s/step - loss: 0.2232 - accuracy: 0.9106 - val_loss: 1.0616 - val_accuracy: 0.7266\n",
      "Epoch 47/50\n",
      "8/8 [==============================] - 27s 3s/step - loss: 0.3434 - accuracy: 0.8382 - val_loss: 2.3391 - val_accuracy: 0.5938\n",
      "Epoch 48/50\n",
      "8/8 [==============================] - 27s 3s/step - loss: 0.1991 - accuracy: 0.9226 - val_loss: 2.8530 - val_accuracy: 0.5742\n",
      "Epoch 49/50\n",
      "8/8 [==============================] - 27s 3s/step - loss: 0.1998 - accuracy: 0.9136 - val_loss: 2.5573 - val_accuracy: 0.5703\n",
      "Epoch 50/50\n",
      "8/8 [==============================] - 27s 3s/step - loss: 0.2021 - accuracy: 0.9277 - val_loss: 2.8275 - val_accuracy: 0.5625\n"
     ]
    }
   ],
   "source": [
    "history = model.fit(\n",
    "      train_generator,\n",
    "      steps_per_epoch=5,  \n",
    "      epochs=50,\n",
    "      verbose=1,\n",
    "      validation_data = validation_generator,\n",
    "      validation_steps=8\n",
    ")"
   ]
  },
  {
   "cell_type": "code",
   "execution_count": 11,
   "metadata": {},
   "outputs": [
    {
     "data": {
      "image/png": "[encoded data removed]",
      "text/plain": [
       "<Figure size 432x288 with 1 Axes>"
      ]
     },
     "metadata": {
      "needs_background": "light"
     },
     "output_type": "display_data"
    },
    {
     "data": {
      "image/png": "[encoded data removed]",
      "text/plain": [
       "<Figure size 432x288 with 1 Axes>"
      ]
     },
     "metadata": {
      "needs_background": "light"
     },
     "output_type": "display_data"
    }
   ],
   "source": [
    "import matplotlib.pyplot as plt\n",
    "acc = history.history['accuracy']\n",
    "val_acc = history.history['val_accuracy']\n",
    "loss = history.history['loss']\n",
    "val_loss = history.history['val_loss']\n",
    "\n",
    "epochs = range(len(acc))\n",
    "\n",
    "plt.plot(epochs, acc, 'bo', label='Training accuracy')\n",
    "plt.plot(epochs, val_acc, 'b', label='Validation accuracy')\n",
    "plt.title('Training and validation accuracy')\n",
    "\n",
    "plt.figure()\n",
    "\n",
    "plt.plot(epochs, loss, 'bo', label='Training Loss')\n",
    "plt.plot(epochs, val_loss, 'b', label='Validation Loss')\n",
    "plt.title('Training and validation loss')\n",
    "plt.legend()\n",
    "\n",
    "plt.show()"
   ]
  },
  {
   "cell_type": "code",
   "execution_count": null,
   "metadata": {},
   "outputs": [],
   "source": []
  }
 ],
 "metadata": {
  "kernelspec": {
   "display_name": "Python 3",
   "language": "python",
   "name": "python3"
  },
  "language_info": {
   "codemirror_mode": {
    "name": "ipython",
    "version": 3
   },
   "file_extension": ".py",
   "mimetype": "text/x-python",
   "name": "python",
   "nbconvert_exporter": "python",
   "pygments_lexer": "ipython3",
   "version": "3.8.5"
  }
 },
 "nbformat": 4,
 "nbformat_minor": 4
}
